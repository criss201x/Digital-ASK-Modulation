{
 "cells": [
  {
   "cell_type": "markdown",
   "id": "0379f68d",
   "metadata": {},
   "source": [
    "# Digital to Digital encoding (tasks)"
   ]
  },
  {
   "cell_type": "markdown",
   "id": "ea5c5928",
   "metadata": {},
   "source": [
    "## Tasks 1. On the paper\n",
    "\n",
    "Use the array below draw in paper the clock, the data and the enconding that you received as an assignment in your research activity."
   ]
  },
  {
   "cell_type": "code",
   "execution_count": null,
   "id": "3a018254",
   "metadata": {},
   "outputs": [],
   "source": [
    "# this will be your data.\n",
    "data = np.array([1, 0, 0, 0, 0, 1, 1, 0, 1, 1, 1, 1, 0, 1, 0, 1, 0, 0, 0, 0])"
   ]
  },
  {
   "cell_type": "markdown",
   "id": "5b80d71a",
   "metadata": {},
   "source": [
    "## Tasks 2. On the paper\n",
    "\n",
    "Repeat the task above but now use the following data array"
   ]
  },
  {
   "cell_type": "code",
   "execution_count": null,
   "id": "767610cb",
   "metadata": {},
   "outputs": [],
   "source": [
    "data = np.array([0, 1, 1, 0, 1, 1, 1, 0, 0, 1, 1, 1, 0, 0, 0, 1, 0, 1, 0, 1])"
   ]
  },
  {
   "cell_type": "markdown",
   "id": "bb25c99b",
   "metadata": {},
   "source": [
    "## Task 3. On jupyter notebook. \n",
    "\n",
    "Encode the arrays above using the techinque you studied in the research assignment"
   ]
  },
  {
   "cell_type": "markdown",
   "id": "ff75e1af",
   "metadata": {},
   "source": [
    "## Task 4. Averages.\n",
    "\n",
    "If you find a 0 keep. If you find 1 replace it by 5, if you find a -1 replace it by -5. Do it in both, the original signals and the encoded ones. Then, extract the average of every array using np.mean()"
   ]
  }
 ],
 "metadata": {
  "kernelspec": {
   "display_name": "Python 3 (ipykernel)",
   "language": "python",
   "name": "python3"
  },
  "language_info": {
   "codemirror_mode": {
    "name": "ipython",
    "version": 3
   },
   "file_extension": ".py",
   "mimetype": "text/x-python",
   "name": "python",
   "nbconvert_exporter": "python",
   "pygments_lexer": "ipython3",
   "version": "3.9.12"
  },
  "toc": {
   "base_numbering": 1,
   "nav_menu": {},
   "number_sections": true,
   "sideBar": true,
   "skip_h1_title": false,
   "title_cell": "Table of Contents",
   "title_sidebar": "Contents",
   "toc_cell": false,
   "toc_position": {},
   "toc_section_display": true,
   "toc_window_display": false
  }
 },
 "nbformat": 4,
 "nbformat_minor": 5
}
