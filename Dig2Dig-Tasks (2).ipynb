{
 "cells": [
  {
   "cell_type": "markdown",
   "id": "1b4a3a4e",
   "metadata": {},
   "source": [
    "# Digital to Digital encoding (tasks)"
   ]
  },
  {
   "cell_type": "markdown",
   "id": "b3e90b65",
   "metadata": {},
   "source": [
    "## Tasks 1. On the paper\n",
    "\n",
    "Use the array below draw in paper the clock, the data and the enconding that you received as an assignment in your research activity."
   ]
  },
  {
   "cell_type": "code",
   "execution_count": null,
   "id": "de68529e",
   "metadata": {},
   "outputs": [],
   "source": [
    "# this will be your data.\n",
    "data = np.array([1, 0, 0, 0, 0, 1, 1, 0, 1, 1, 1, 1, 0, 1, 0, 1, 0, 0, 0, 0])"
   ]
  },
  {
   "cell_type": "markdown",
   "id": "de6cde89",
   "metadata": {},
   "source": [
    "## Tasks 2. On the paper\n",
    "\n",
    "Repeat the task above but now use the following data array"
   ]
  },
  {
   "cell_type": "code",
   "execution_count": null,
   "id": "2227373c",
   "metadata": {},
   "outputs": [],
   "source": [
    "data = np.array([0, 1, 1, 0, 1, 1, 1, 0, 0, 1, 1, 1, 0, 0, 0, 1, 0, 1, 0, 1])"
   ]
  },
  {
   "cell_type": "markdown",
   "id": "232b13af",
   "metadata": {},
   "source": [
    "## Task 3. On jupyter notebook. \n",
    "\n",
    "Encode the arrays above using the techinque you studied in the research assignment"
   ]
  },
  {
   "cell_type": "code",
   "execution_count": null,
   "id": "9e9d74d3",
   "metadata": {},
   "outputs": [],
   "source": []
  },
  {
   "cell_type": "markdown",
   "id": "1ac3a1f7",
   "metadata": {},
   "source": [
    "## Task 4. Averages.\n",
    "\n",
    "If you find a 0 keep. If you find 1 replace it by 5, if you find a -1 replace it by -5. Do it in both, the original signals and the encoded ones. Then, extract the average of every array using np.mean()"
   ]
  },
  {
   "cell_type": "code",
   "execution_count": null,
   "id": "694f75f8",
   "metadata": {},
   "outputs": [],
   "source": []
  }
 ],
 "metadata": {
  "kernelspec": {
   "display_name": "Python 3 (ipykernel)",
   "language": "python",
   "name": "python3"
  },
  "language_info": {
   "codemirror_mode": {
    "name": "ipython",
    "version": 3
   },
   "file_extension": ".py",
   "mimetype": "text/x-python",
   "name": "python",
   "nbconvert_exporter": "python",
   "pygments_lexer": "ipython3",
   "version": "3.9.12"
  },
  "toc": {
   "base_numbering": 1,
   "nav_menu": {},
   "number_sections": true,
   "sideBar": true,
   "skip_h1_title": false,
   "title_cell": "Table of Contents",
   "title_sidebar": "Contents",
   "toc_cell": false,
   "toc_position": {},
   "toc_section_display": true,
   "toc_window_display": false
  }
 },
 "nbformat": 4,
 "nbformat_minor": 5
}
